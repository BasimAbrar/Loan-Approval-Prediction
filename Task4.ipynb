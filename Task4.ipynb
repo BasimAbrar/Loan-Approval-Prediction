{
 "cells": [
  {
   "cell_type": "code",
   "id": "initial_id",
   "metadata": {
    "collapsed": true,
    "ExecuteTime": {
     "end_time": "2025-09-19T11:05:37.423039Z",
     "start_time": "2025-09-19T11:05:34.029165Z"
    }
   },
   "source": [
    "import pandas as pd\n",
    "import numpy as np\n",
    "import matplotlib.pyplot as plt\n",
    "from sklearn.model_selection import train_test_split\n",
    "from sklearn.preprocessing import StandardScaler,LabelEncoder\n",
    "from sklearn.linear_model import LogisticRegression\n",
    "from sklearn.tree import DecisionTreeClassifier\n",
    "from sklearn.metrics import classification_report, confusion_matrix, ConfusionMatrixDisplay, accuracy_score\n",
    "\n"
   ],
   "outputs": [],
   "execution_count": 1
  },
  {
   "metadata": {
    "ExecuteTime": {
     "end_time": "2025-09-19T11:05:37.516879Z",
     "start_time": "2025-09-19T11:05:37.439036Z"
    }
   },
   "cell_type": "code",
   "source": [
    "df = pd.read_csv(\"loan_approval_dataset.csv\")\n",
    "df\n"
   ],
   "id": "108294355d312b42",
   "outputs": [
    {
     "data": {
      "text/plain": [
       "      loan_id   no_of_dependents      education  self_employed   income_annum  \\\n",
       "0           1                  2       Graduate             No        9600000   \n",
       "1           2                  0   Not Graduate            Yes        4100000   \n",
       "2           3                  3       Graduate             No        9100000   \n",
       "3           4                  3       Graduate             No        8200000   \n",
       "4           5                  5   Not Graduate            Yes        9800000   \n",
       "...       ...                ...            ...            ...            ...   \n",
       "4264     4265                  5       Graduate            Yes        1000000   \n",
       "4265     4266                  0   Not Graduate            Yes        3300000   \n",
       "4266     4267                  2   Not Graduate             No        6500000   \n",
       "4267     4268                  1   Not Graduate             No        4100000   \n",
       "4268     4269                  1       Graduate             No        9200000   \n",
       "\n",
       "       loan_amount   loan_term   cibil_score   residential_assets_value  \\\n",
       "0         29900000          12           778                    2400000   \n",
       "1         12200000           8           417                    2700000   \n",
       "2         29700000          20           506                    7100000   \n",
       "3         30700000           8           467                   18200000   \n",
       "4         24200000          20           382                   12400000   \n",
       "...            ...         ...           ...                        ...   \n",
       "4264       2300000          12           317                    2800000   \n",
       "4265      11300000          20           559                    4200000   \n",
       "4266      23900000          18           457                    1200000   \n",
       "4267      12800000           8           780                    8200000   \n",
       "4268      29700000          10           607                   17800000   \n",
       "\n",
       "       commercial_assets_value   luxury_assets_value   bank_asset_value  \\\n",
       "0                     17600000              22700000            8000000   \n",
       "1                      2200000               8800000            3300000   \n",
       "2                      4500000              33300000           12800000   \n",
       "3                      3300000              23300000            7900000   \n",
       "4                      8200000              29400000            5000000   \n",
       "...                        ...                   ...                ...   \n",
       "4264                    500000               3300000             800000   \n",
       "4265                   2900000              11000000            1900000   \n",
       "4266                  12400000              18100000            7300000   \n",
       "4267                    700000              14100000            5800000   \n",
       "4268                  11800000              35700000           12000000   \n",
       "\n",
       "      loan_status  \n",
       "0        Approved  \n",
       "1        Rejected  \n",
       "2        Rejected  \n",
       "3        Rejected  \n",
       "4        Rejected  \n",
       "...           ...  \n",
       "4264     Rejected  \n",
       "4265     Approved  \n",
       "4266     Rejected  \n",
       "4267     Approved  \n",
       "4268     Approved  \n",
       "\n",
       "[4269 rows x 13 columns]"
      ],
      "text/html": [
       "<div>\n",
       "<style scoped>\n",
       "    .dataframe tbody tr th:only-of-type {\n",
       "        vertical-align: middle;\n",
       "    }\n",
       "\n",
       "    .dataframe tbody tr th {\n",
       "        vertical-align: top;\n",
       "    }\n",
       "\n",
       "    .dataframe thead th {\n",
       "        text-align: right;\n",
       "    }\n",
       "</style>\n",
       "<table border=\"1\" class=\"dataframe\">\n",
       "  <thead>\n",
       "    <tr style=\"text-align: right;\">\n",
       "      <th></th>\n",
       "      <th>loan_id</th>\n",
       "      <th>no_of_dependents</th>\n",
       "      <th>education</th>\n",
       "      <th>self_employed</th>\n",
       "      <th>income_annum</th>\n",
       "      <th>loan_amount</th>\n",
       "      <th>loan_term</th>\n",
       "      <th>cibil_score</th>\n",
       "      <th>residential_assets_value</th>\n",
       "      <th>commercial_assets_value</th>\n",
       "      <th>luxury_assets_value</th>\n",
       "      <th>bank_asset_value</th>\n",
       "      <th>loan_status</th>\n",
       "    </tr>\n",
       "  </thead>\n",
       "  <tbody>\n",
       "    <tr>\n",
       "      <th>0</th>\n",
       "      <td>1</td>\n",
       "      <td>2</td>\n",
       "      <td>Graduate</td>\n",
       "      <td>No</td>\n",
       "      <td>9600000</td>\n",
       "      <td>29900000</td>\n",
       "      <td>12</td>\n",
       "      <td>778</td>\n",
       "      <td>2400000</td>\n",
       "      <td>17600000</td>\n",
       "      <td>22700000</td>\n",
       "      <td>8000000</td>\n",
       "      <td>Approved</td>\n",
       "    </tr>\n",
       "    <tr>\n",
       "      <th>1</th>\n",
       "      <td>2</td>\n",
       "      <td>0</td>\n",
       "      <td>Not Graduate</td>\n",
       "      <td>Yes</td>\n",
       "      <td>4100000</td>\n",
       "      <td>12200000</td>\n",
       "      <td>8</td>\n",
       "      <td>417</td>\n",
       "      <td>2700000</td>\n",
       "      <td>2200000</td>\n",
       "      <td>8800000</td>\n",
       "      <td>3300000</td>\n",
       "      <td>Rejected</td>\n",
       "    </tr>\n",
       "    <tr>\n",
       "      <th>2</th>\n",
       "      <td>3</td>\n",
       "      <td>3</td>\n",
       "      <td>Graduate</td>\n",
       "      <td>No</td>\n",
       "      <td>9100000</td>\n",
       "      <td>29700000</td>\n",
       "      <td>20</td>\n",
       "      <td>506</td>\n",
       "      <td>7100000</td>\n",
       "      <td>4500000</td>\n",
       "      <td>33300000</td>\n",
       "      <td>12800000</td>\n",
       "      <td>Rejected</td>\n",
       "    </tr>\n",
       "    <tr>\n",
       "      <th>3</th>\n",
       "      <td>4</td>\n",
       "      <td>3</td>\n",
       "      <td>Graduate</td>\n",
       "      <td>No</td>\n",
       "      <td>8200000</td>\n",
       "      <td>30700000</td>\n",
       "      <td>8</td>\n",
       "      <td>467</td>\n",
       "      <td>18200000</td>\n",
       "      <td>3300000</td>\n",
       "      <td>23300000</td>\n",
       "      <td>7900000</td>\n",
       "      <td>Rejected</td>\n",
       "    </tr>\n",
       "    <tr>\n",
       "      <th>4</th>\n",
       "      <td>5</td>\n",
       "      <td>5</td>\n",
       "      <td>Not Graduate</td>\n",
       "      <td>Yes</td>\n",
       "      <td>9800000</td>\n",
       "      <td>24200000</td>\n",
       "      <td>20</td>\n",
       "      <td>382</td>\n",
       "      <td>12400000</td>\n",
       "      <td>8200000</td>\n",
       "      <td>29400000</td>\n",
       "      <td>5000000</td>\n",
       "      <td>Rejected</td>\n",
       "    </tr>\n",
       "    <tr>\n",
       "      <th>...</th>\n",
       "      <td>...</td>\n",
       "      <td>...</td>\n",
       "      <td>...</td>\n",
       "      <td>...</td>\n",
       "      <td>...</td>\n",
       "      <td>...</td>\n",
       "      <td>...</td>\n",
       "      <td>...</td>\n",
       "      <td>...</td>\n",
       "      <td>...</td>\n",
       "      <td>...</td>\n",
       "      <td>...</td>\n",
       "      <td>...</td>\n",
       "    </tr>\n",
       "    <tr>\n",
       "      <th>4264</th>\n",
       "      <td>4265</td>\n",
       "      <td>5</td>\n",
       "      <td>Graduate</td>\n",
       "      <td>Yes</td>\n",
       "      <td>1000000</td>\n",
       "      <td>2300000</td>\n",
       "      <td>12</td>\n",
       "      <td>317</td>\n",
       "      <td>2800000</td>\n",
       "      <td>500000</td>\n",
       "      <td>3300000</td>\n",
       "      <td>800000</td>\n",
       "      <td>Rejected</td>\n",
       "    </tr>\n",
       "    <tr>\n",
       "      <th>4265</th>\n",
       "      <td>4266</td>\n",
       "      <td>0</td>\n",
       "      <td>Not Graduate</td>\n",
       "      <td>Yes</td>\n",
       "      <td>3300000</td>\n",
       "      <td>11300000</td>\n",
       "      <td>20</td>\n",
       "      <td>559</td>\n",
       "      <td>4200000</td>\n",
       "      <td>2900000</td>\n",
       "      <td>11000000</td>\n",
       "      <td>1900000</td>\n",
       "      <td>Approved</td>\n",
       "    </tr>\n",
       "    <tr>\n",
       "      <th>4266</th>\n",
       "      <td>4267</td>\n",
       "      <td>2</td>\n",
       "      <td>Not Graduate</td>\n",
       "      <td>No</td>\n",
       "      <td>6500000</td>\n",
       "      <td>23900000</td>\n",
       "      <td>18</td>\n",
       "      <td>457</td>\n",
       "      <td>1200000</td>\n",
       "      <td>12400000</td>\n",
       "      <td>18100000</td>\n",
       "      <td>7300000</td>\n",
       "      <td>Rejected</td>\n",
       "    </tr>\n",
       "    <tr>\n",
       "      <th>4267</th>\n",
       "      <td>4268</td>\n",
       "      <td>1</td>\n",
       "      <td>Not Graduate</td>\n",
       "      <td>No</td>\n",
       "      <td>4100000</td>\n",
       "      <td>12800000</td>\n",
       "      <td>8</td>\n",
       "      <td>780</td>\n",
       "      <td>8200000</td>\n",
       "      <td>700000</td>\n",
       "      <td>14100000</td>\n",
       "      <td>5800000</td>\n",
       "      <td>Approved</td>\n",
       "    </tr>\n",
       "    <tr>\n",
       "      <th>4268</th>\n",
       "      <td>4269</td>\n",
       "      <td>1</td>\n",
       "      <td>Graduate</td>\n",
       "      <td>No</td>\n",
       "      <td>9200000</td>\n",
       "      <td>29700000</td>\n",
       "      <td>10</td>\n",
       "      <td>607</td>\n",
       "      <td>17800000</td>\n",
       "      <td>11800000</td>\n",
       "      <td>35700000</td>\n",
       "      <td>12000000</td>\n",
       "      <td>Approved</td>\n",
       "    </tr>\n",
       "  </tbody>\n",
       "</table>\n",
       "<p>4269 rows × 13 columns</p>\n",
       "</div>"
      ]
     },
     "execution_count": 2,
     "metadata": {},
     "output_type": "execute_result"
    }
   ],
   "execution_count": 2
  },
  {
   "metadata": {
    "ExecuteTime": {
     "end_time": "2025-09-19T11:05:37.613589Z",
     "start_time": "2025-09-19T11:05:37.604235Z"
    }
   },
   "cell_type": "code",
   "source": [
    "df.columns = df.columns.str.strip()\n",
    "print(df[\"loan_status\"].unique()[:10])\n",
    "print(df[\"loan_status\"].value_counts(dropna=False))"
   ],
   "id": "aab429456a735e8a",
   "outputs": [
    {
     "name": "stdout",
     "output_type": "stream",
     "text": [
      "[' Approved' ' Rejected']\n",
      "loan_status\n",
      "Approved    2656\n",
      "Rejected    1613\n",
      "Name: count, dtype: int64\n"
     ]
    }
   ],
   "execution_count": 3
  },
  {
   "metadata": {
    "ExecuteTime": {
     "end_time": "2025-09-19T11:05:37.983556Z",
     "start_time": "2025-09-19T11:05:37.967669Z"
    }
   },
   "cell_type": "code",
   "source": [
    "df[\"loan_status\"] = df[\"loan_status\"].str.strip()\n",
    "df[\"loan_status\"] = df[\"loan_status\"].map({\"Approved\": 1, \"Rejected\": 0})\n",
    "print(df[\"loan_status\"].unique())\n",
    "print(df[\"loan_status\"].value_counts())\n"
   ],
   "id": "2206a53ddb18bb76",
   "outputs": [
    {
     "name": "stdout",
     "output_type": "stream",
     "text": [
      "[1 0]\n",
      "loan_status\n",
      "1    2656\n",
      "0    1613\n",
      "Name: count, dtype: int64\n"
     ]
    }
   ],
   "execution_count": 4
  },
  {
   "metadata": {
    "ExecuteTime": {
     "end_time": "2025-09-19T11:05:38.167960Z",
     "start_time": "2025-09-19T11:05:38.161460Z"
    }
   },
   "cell_type": "code",
   "source": "df = df.drop(columns=[\"loan_id\"])\n",
   "id": "d7b2ebf55d7e08d7",
   "outputs": [],
   "execution_count": 5
  },
  {
   "metadata": {
    "ExecuteTime": {
     "end_time": "2025-09-19T11:05:38.394826Z",
     "start_time": "2025-09-19T11:05:38.209940Z"
    }
   },
   "cell_type": "code",
   "source": [
    "class_counts = df[\"loan_status\"].value_counts().sort_index()\n",
    "\n",
    "plt.figure(figsize=(5,4))\n",
    "class_counts.plot(kind=\"bar\", color=[\"red\",\"green\"])\n",
    "plt.title(\"Class Distribution (0 = Rejected, 1 = Approved)\")\n",
    "plt.xlabel(\"Loan Status\")\n",
    "plt.ylabel(\"Count\")\n",
    "plt.show()"
   ],
   "id": "1ec37e2eb95c73ef",
   "outputs": [
    {
     "data": {
      "text/plain": [
       "<Figure size 500x400 with 1 Axes>"
      ],
      "image/png": "[encoded data removed]"
     },
     "metadata": {},
     "output_type": "display_data"
    }
   ],
   "execution_count": 6
  },
  {
   "metadata": {
    "ExecuteTime": {
     "end_time": "2025-09-19T11:05:38.512569Z",
     "start_time": "2025-09-19T11:05:38.502037Z"
    }
   },
   "cell_type": "code",
   "source": "df.isnull().sum()",
   "id": "7fd75971addcf196",
   "outputs": [
    {
     "data": {
      "text/plain": [
       "no_of_dependents            0\n",
       "education                   0\n",
       "self_employed               0\n",
       "income_annum                0\n",
       "loan_amount                 0\n",
       "loan_term                   0\n",
       "cibil_score                 0\n",
       "residential_assets_value    0\n",
       "commercial_assets_value     0\n",
       "luxury_assets_value         0\n",
       "bank_asset_value            0\n",
       "loan_status                 0\n",
       "dtype: int64"
      ]
     },
     "execution_count": 7,
     "metadata": {},
     "output_type": "execute_result"
    }
   ],
   "execution_count": 7
  },
  {
   "metadata": {},
   "cell_type": "markdown",
   "source": [
    "______________________________________________________________________________________________________________________\n",
    "# Encoding Process\n",
    "------------------------------------------------------------------------------------------------------------------------"
   ],
   "id": "ea9f66e369b84d72"
  },
  {
   "metadata": {
    "ExecuteTime": {
     "end_time": "2025-09-19T11:05:38.902244Z",
     "start_time": "2025-09-19T11:05:38.881448Z"
    }
   },
   "cell_type": "code",
   "source": [
    "#Encoding categorical columns\n",
    "le = LabelEncoder()\n",
    "if df[\"education\"].dtype == \"object\":\n",
    "    df[\"education\"] = le.fit_transform(df[\"education\"].str.strip())\n",
    "if df[\"self_employed\"].dtype == \"object\":\n",
    "    df[\"self_employed\"] = le.fit_transform(df[\"self_employed\"].str.strip())\n",
    "\n",
    "print(df[[\"education\", \"self_employed\"]].head().to_string(index=False))"
   ],
   "id": "2d887f2bfdce55a4",
   "outputs": [
    {
     "name": "stdout",
     "output_type": "stream",
     "text": [
      " education  self_employed\n",
      "         0              0\n",
      "         1              1\n",
      "         0              0\n",
      "         0              0\n",
      "         1              1\n"
     ]
    }
   ],
   "execution_count": 8
  },
  {
   "metadata": {
    "ExecuteTime": {
     "end_time": "2025-09-19T11:05:39.127827Z",
     "start_time": "2025-09-19T11:05:39.091140Z"
    }
   },
   "cell_type": "code",
   "source": [
    "#Scaling numerical features\n",
    "X = df.drop(columns=[\"loan_status\"])\n",
    "y = df[\"loan_status\"]\n",
    "\n",
    "# Scale numerical features\n",
    "scaler = StandardScaler()\n",
    "X_scaled = scaler.fit_transform(X)\n",
    "\n",
    "print(\"Scaled feature shape:\", X_scaled.shape)\n"
   ],
   "id": "e22603efdbd4ae0d",
   "outputs": [
    {
     "name": "stdout",
     "output_type": "stream",
     "text": [
      "Scaled feature shape: (4269, 11)\n"
     ]
    }
   ],
   "execution_count": 9
  },
  {
   "metadata": {},
   "cell_type": "markdown",
   "source": [
    "______________________________________________________________________________________________________________________\n",
    "# Train Test Split\n",
    "------------------------------------------------------------------------------------------------------------------------"
   ],
   "id": "ea4fdc759a123494"
  },
  {
   "metadata": {
    "ExecuteTime": {
     "end_time": "2025-09-19T11:05:39.226837Z",
     "start_time": "2025-09-19T11:05:39.197787Z"
    }
   },
   "cell_type": "code",
   "source": [
    "X = df.drop(columns=[\"loan_status\"])\n",
    "y = df[\"loan_status\"]\n",
    "X_train, X_test, y_train, y_test = train_test_split(\n",
    "    X, y, test_size=0.2, random_state=42, stratify=y\n",
    ")\n",
    "\n",
    "# Scaling after splitting only on training data\n",
    "scaler = StandardScaler()\n",
    "X_train_scaled = scaler.fit_transform(X_train)\n",
    "X_test_scaled = scaler.transform(X_test)\n",
    "print(\"Train shape:\", X_train_scaled.shape)\n",
    "print(\"Test shape:\", X_test_scaled.shape)\n"
   ],
   "id": "3c4fa3a71a633d76",
   "outputs": [
    {
     "name": "stdout",
     "output_type": "stream",
     "text": [
      "Train shape: (3415, 11)\n",
      "Test shape: (854, 11)\n"
     ]
    }
   ],
   "execution_count": 10
  },
  {
   "metadata": {},
   "cell_type": "markdown",
   "source": [
    "______________________________________________________________________________________________________________________\n",
    "# 1. Model Training(Logistic Regression)\n",
    "------------------------------------------------------------------------------------------------------------------------"
   ],
   "id": "9f4c45e8e87958ff"
  },
  {
   "metadata": {
    "ExecuteTime": {
     "end_time": "2025-09-19T11:05:39.307135Z",
     "start_time": "2025-09-19T11:05:39.278809Z"
    }
   },
   "cell_type": "code",
   "source": [
    "model1=LogisticRegression(class_weight=\"balanced\", random_state=42, max_iter=1000)\n",
    "model1.fit(X_train_scaled, y_train)\n",
    "model1_pred= model1.predict(X_test_scaled)\n"
   ],
   "id": "609d42e2b488bdef",
   "outputs": [],
   "execution_count": 11
  },
  {
   "metadata": {
    "ExecuteTime": {
     "end_time": "2025-09-19T11:05:39.361321Z",
     "start_time": "2025-09-19T11:05:39.322133Z"
    }
   },
   "cell_type": "code",
   "source": [
    "print(\"Logistic Regression Performance:\")\n",
    "print(classification_report(y_test, model1_pred))\n",
    "\n"
   ],
   "id": "b4d37104743d32d8",
   "outputs": [
    {
     "name": "stdout",
     "output_type": "stream",
     "text": [
      "Logistic Regression Performance:\n",
      "              precision    recall  f1-score   support\n",
      "\n",
      "           0       0.88      0.93      0.90       323\n",
      "           1       0.96      0.92      0.94       531\n",
      "\n",
      "    accuracy                           0.92       854\n",
      "   macro avg       0.92      0.92      0.92       854\n",
      "weighted avg       0.93      0.92      0.92       854\n",
      "\n"
     ]
    }
   ],
   "execution_count": 12
  },
  {
   "metadata": {
    "ExecuteTime": {
     "end_time": "2025-09-19T11:05:41.436293Z",
     "start_time": "2025-09-19T11:05:39.397306Z"
    }
   },
   "cell_type": "code",
   "source": [
    "cm = confusion_matrix(y_test, model1_pred)\n",
    "disp = ConfusionMatrixDisplay(confusion_matrix=cm, display_labels=model1.classes_)\n",
    "disp.plot(cmap=\"Blues\")\n",
    "plt.title(\"Logistic Regression - Confusion Matrix\")\n",
    "plt.show()"
   ],
   "id": "5f8a10ed10f72812",
   "outputs": [
    {
     "data": {
      "text/plain": [
       "<Figure size 640x480 with 2 Axes>"
      ],
      "image/png": "[encoded data removed]"
     },
     "metadata": {},
     "output_type": "display_data"
    }
   ],
   "execution_count": 13
  },
  {
   "metadata": {
    "ExecuteTime": {
     "end_time": "2025-09-19T11:05:41.477770Z",
     "start_time": "2025-09-19T11:05:41.467281Z"
    }
   },
   "cell_type": "code",
   "source": "",
   "id": "8ccdaf35cb9a418f",
   "outputs": [],
   "execution_count": null
  },
  {
   "metadata": {},
   "cell_type": "markdown",
   "source": [
    "______________________________________________________________________________________________________________________\n",
    "# 2. Model Training(Decision Tree)\n",
    "------------------------------------------------------------------------------------------------------------------------"
   ],
   "id": "ab9aa0b8fc29c61b"
  },
  {
   "metadata": {
    "ExecuteTime": {
     "end_time": "2025-09-19T11:05:41.514403Z",
     "start_time": "2025-09-19T11:05:41.490756Z"
    }
   },
   "cell_type": "code",
   "source": [
    "model2 = DecisionTreeClassifier(random_state=42)\n",
    "model2.fit(X_train_scaled, y_train)\n",
    "model2_pred = model2.predict(X_test_scaled)\n"
   ],
   "id": "a6f376ed64365fa3",
   "outputs": [],
   "execution_count": 14
  },
  {
   "metadata": {
    "ExecuteTime": {
     "end_time": "2025-09-19T11:05:41.592197Z",
     "start_time": "2025-09-19T11:05:41.551390Z"
    }
   },
   "cell_type": "code",
   "source": [
    "print(\"Decision Tree Performance:\")\n",
    "print(classification_report(y_test, model2_pred))\n"
   ],
   "id": "54b5950bd2fcb53d",
   "outputs": [
    {
     "name": "stdout",
     "output_type": "stream",
     "text": [
      "Decision Tree Performance:\n",
      "              precision    recall  f1-score   support\n",
      "\n",
      "           0       0.98      0.98      0.98       323\n",
      "           1       0.98      0.98      0.98       531\n",
      "\n",
      "    accuracy                           0.98       854\n",
      "   macro avg       0.98      0.98      0.98       854\n",
      "weighted avg       0.98      0.98      0.98       854\n",
      "\n"
     ]
    }
   ],
   "execution_count": 15
  },
  {
   "metadata": {
    "ExecuteTime": {
     "end_time": "2025-09-19T11:05:42.122599Z",
     "start_time": "2025-09-19T11:05:41.626179Z"
    }
   },
   "cell_type": "code",
   "source": [
    "cm = confusion_matrix(y_test, model2_pred)\n",
    "disp = ConfusionMatrixDisplay(confusion_matrix=cm, display_labels=model2.classes_)\n",
    "disp.plot(cmap=\"Blues\")\n",
    "plt.title(\"Decision Tree - Confusion Matrix\")\n",
    "plt.show()"
   ],
   "id": "e27171e51b2d99fb",
   "outputs": [
    {
     "data": {
      "text/plain": [
       "<Figure size 640x480 with 2 Axes>"
      ],
      "image/png": "[encoded data removed]"
     },
     "metadata": {},
     "output_type": "display_data"
    }
   ],
   "execution_count": 16
  },
  {
   "metadata": {},
   "cell_type": "markdown",
   "source": [
    "______________________________________________________________________________________________________________________\n",
    "# Applying SMOTE on Training Data\n",
    "------------------------------------------------------------------------------------------------------------------------"
   ],
   "id": "81f9a6dc2d195c67"
  },
  {
   "metadata": {
    "ExecuteTime": {
     "end_time": "2025-09-19T11:05:43.605311Z",
     "start_time": "2025-09-19T11:05:42.152587Z"
    }
   },
   "cell_type": "code",
   "source": [
    "from imblearn.over_sampling import SMOTE\n",
    "\n",
    "# Initialize SMOTE\n",
    "smote = SMOTE(random_state=42)\n",
    "\n",
    "# Apply SMOTE to training set\n",
    "X_train_res, y_train_res = smote.fit_resample(X_train_scaled, y_train)\n",
    "\n",
    "print(\"Before SMOTE:\", y_train.value_counts())\n",
    "print(\"After SMOTE:\", y_train_res.value_counts())\n"
   ],
   "id": "a66602109bec1d14",
   "outputs": [
    {
     "name": "stdout",
     "output_type": "stream",
     "text": [
      "Before SMOTE: loan_status\n",
      "1    2125\n",
      "0    1290\n",
      "Name: count, dtype: int64\n",
      "After SMOTE: loan_status\n",
      "1    2125\n",
      "0    2125\n",
      "Name: count, dtype: int64\n"
     ]
    }
   ],
   "execution_count": 17
  },
  {
   "metadata": {},
   "cell_type": "markdown",
   "source": [
    "______________________________________________________________________________________________________________________\n",
    "# Retraining Models on Balanced Data\n",
    "------------------------------------------------------------------------------------------------------------------------"
   ],
   "id": "bc0dd08f9f2362e9"
  },
  {
   "metadata": {},
   "cell_type": "markdown",
   "source": "# Logistic Regression:",
   "id": "d17aac3fc84162e6"
  },
  {
   "metadata": {
    "ExecuteTime": {
     "end_time": "2025-09-19T11:05:43.678743Z",
     "start_time": "2025-09-19T11:05:43.633298Z"
    }
   },
   "cell_type": "code",
   "source": [
    "model1_smote = LogisticRegression(class_weight=None, random_state=42, max_iter=1000)\n",
    "model1_smote.fit(X_train_res, y_train_res)\n",
    "\n",
    "model1_smote_pred = model1_smote.predict(X_test_scaled)\n",
    "\n",
    "print(\"Logistic Regression with SMOTE:\")\n",
    "print(classification_report(y_test, model1_smote_pred))\n"
   ],
   "id": "b25d191b4b39bcc0",
   "outputs": [
    {
     "name": "stdout",
     "output_type": "stream",
     "text": [
      "Logistic Regression with SMOTE:\n",
      "              precision    recall  f1-score   support\n",
      "\n",
      "           0       0.88      0.92      0.90       323\n",
      "           1       0.95      0.92      0.94       531\n",
      "\n",
      "    accuracy                           0.92       854\n",
      "   macro avg       0.92      0.92      0.92       854\n",
      "weighted avg       0.92      0.92      0.92       854\n",
      "\n"
     ]
    }
   ],
   "execution_count": 18
  },
  {
   "metadata": {
    "ExecuteTime": {
     "end_time": "2025-09-19T11:05:43.848966Z",
     "start_time": "2025-09-19T11:05:43.705732Z"
    }
   },
   "cell_type": "code",
   "source": [
    "cm_lr = confusion_matrix(y_test, model1_smote_pred)\n",
    "disp_lr = ConfusionMatrixDisplay(confusion_matrix=cm_lr, display_labels=model1_smote.classes_)\n",
    "fig, ax = plt.subplots(figsize=(5,4))\n",
    "disp_lr.plot(cmap=\"Blues\", values_format=\"d\", ax=ax, colorbar=True)\n",
    "plt.title(\"Logistic Regression (SMOTE)\")\n",
    "plt.show()"
   ],
   "id": "82ec05382d7e7314",
   "outputs": [
    {
     "data": {
      "text/plain": [
       "<Figure size 500x400 with 2 Axes>"
      ],
      "image/png": "[encoded data removed]"
     },
     "metadata": {},
     "output_type": "display_data"
    }
   ],
   "execution_count": 19
  },
  {
   "metadata": {},
   "cell_type": "markdown",
   "source": "# Decision Tree:",
   "id": "293ab2e3fadda65a"
  },
  {
   "metadata": {
    "ExecuteTime": {
     "end_time": "2025-09-19T11:05:43.919149Z",
     "start_time": "2025-09-19T11:05:43.868959Z"
    }
   },
   "cell_type": "code",
   "source": [
    "model2_smote = DecisionTreeClassifier(class_weight=None, random_state=42)\n",
    "model2_smote.fit(X_train_res, y_train_res)\n",
    "\n",
    "model2_smote_pred = model2_smote.predict(X_test_scaled)\n",
    "\n",
    "print(\"Decision Tree with SMOTE:\")\n",
    "print(classification_report(y_test, model2_smote_pred))\n"
   ],
   "id": "c1fb3e9e90f0c118",
   "outputs": [
    {
     "name": "stdout",
     "output_type": "stream",
     "text": [
      "Decision Tree with SMOTE:\n",
      "              precision    recall  f1-score   support\n",
      "\n",
      "           0       0.98      0.97      0.97       323\n",
      "           1       0.98      0.99      0.98       531\n",
      "\n",
      "    accuracy                           0.98       854\n",
      "   macro avg       0.98      0.98      0.98       854\n",
      "weighted avg       0.98      0.98      0.98       854\n",
      "\n"
     ]
    }
   ],
   "execution_count": 20
  },
  {
   "metadata": {
    "ExecuteTime": {
     "end_time": "2025-09-19T11:05:44.078773Z",
     "start_time": "2025-09-19T11:05:43.937143Z"
    }
   },
   "cell_type": "code",
   "source": [
    "cm_dt = confusion_matrix(y_test, model2_smote_pred)\n",
    "disp_dt = ConfusionMatrixDisplay(confusion_matrix=cm_dt, display_labels=model2_smote.classes_)\n",
    "fig, ax = plt.subplots(figsize=(5,4))\n",
    "disp_dt.plot(cmap=\"Blues\", values_format=\"d\", ax=ax, colorbar=True)\n",
    "plt.title(\"Decision Tree (SMOTE)\")\n",
    "plt.show()"
   ],
   "id": "de4e9d75297f71b0",
   "outputs": [
    {
     "data": {
      "text/plain": [
       "<Figure size 500x400 with 2 Axes>"
      ],
      "image/png": "[encoded data removed]"
     },
     "metadata": {},
     "output_type": "display_data"
    }
   ],
   "execution_count": 21
  },
  {
   "metadata": {},
   "cell_type": "markdown",
   "source": [
    "# Final Conclusion\n",
    "\n",
    "In this project, I developed a machine learning pipeline to predict loan approval status. The dataset was preprocessed through handling missing values, encoding categorical features, scaling numerical features, and preparing the target labels. Both Logistic Regression and Decision Tree classifiers were tested, with additional methods (SMOTE, class weights) considered for class imbalance.\n",
    "\n",
    "- Logistic Regression achieved 92% accuracy. While it provided a simple and interpretable baseline, it showed weaker performance in capturing rejected loan cases. Even with SMOTE, results stayed around 92%, showing limited improvement.\n",
    "\n",
    "- Decision Tree with class_weight=\"balanced\" achieved ~98% accuracy, showing excellent precision, recall, and F1-scores for both classes. However, results were essentially the same as the plain Decision Tree.\n",
    "\n",
    "Decision Tree without balancing (final model) also achieved ~98% accuracy with equally strong precision, recall, and F1 across both approved and rejected classes. Since the dataset was not extremely imbalanced, the model naturally handled class distribution well without requiring SMOTE or class weights.\n",
    "\n",
    "# Final Choice:\n",
    "\n",
    "The Decision Tree (without class balancing or SMOTE) is the best-performing and simplest model. It delivers 98% accuracy with balanced precision, recall, and F1-scores, making it the most practical and reliable choice for loan approval prediction."
   ],
   "id": "f869a96c9993f839"
  },
  {
   "metadata": {},
   "cell_type": "markdown",
   "source": [
    "______________________________________________________________________________________________________________________\n",
    "# Making Predictions\n",
    "------------------------------------------------------------------------------------------------------------------------"
   ],
   "id": "e54999c1464a3c7b"
  },
  {
   "metadata": {
    "ExecuteTime": {
     "end_time": "2025-09-19T11:05:44.114981Z",
     "start_time": "2025-09-19T11:05:44.104934Z"
    }
   },
   "cell_type": "code",
   "source": [
    "\n",
    "new_applicant = pd.DataFrame([{\n",
    "    \"no_of_dependents\": 2,\n",
    "    \"education\": 1,\n",
    "    \"self_employed\": 0,\n",
    "    \"income_annum\": 6000000,\n",
    "    \"loan_amount\": 20000000,\n",
    "    \"loan_term\": 12,\n",
    "    \"cibil_score\": 750,\n",
    "    \"residential_assets_value\": 3000000,\n",
    "    \"commercial_assets_value\": 5000000,\n",
    "    \"luxury_assets_value\": 12000000,\n",
    "    \"bank_asset_value\": 7000000\n",
    "}])\n",
    "\n",
    "new_applicant_scaled = scaler.transform(new_applicant)\n",
    "\n",
    "prediction = model2.predict(new_applicant_scaled)\n",
    "\n",
    "print(\"Prediction:\", \"Approved\" if prediction[0] == 1 else \"Rejected\")\n"
   ],
   "id": "6a58d4aa1771b5f7",
   "outputs": [
    {
     "name": "stdout",
     "output_type": "stream",
     "text": [
      "Prediction: Approved\n"
     ]
    }
   ],
   "execution_count": 22
  },
  {
   "metadata": {
    "ExecuteTime": {
     "end_time": "2025-09-19T11:05:44.173942Z",
     "start_time": "2025-09-19T11:05:44.155964Z"
    }
   },
   "cell_type": "code",
   "source": [
    "new_data = pd.DataFrame({\n",
    "    \"no_of_dependents\": [0, 3, 2],\n",
    "    \"education\": [1, 0, 1],\n",
    "    \"self_employed\": [0, 1, 0],\n",
    "    \"income_annum\": [5000000, 2500000, 9000000],\n",
    "    \"loan_amount\": [15000000, 12000000, 25000000],\n",
    "    \"loan_term\": [10, 8, 15],\n",
    "    \"cibil_score\": [720, 600, 780],\n",
    "    \"residential_assets_value\": [2000000, 1000000, 7000000],\n",
    "    \"commercial_assets_value\": [3000000, 2000000, 9000000],\n",
    "    \"luxury_assets_value\": [10000000, 3000000, 20000000],\n",
    "    \"bank_asset_value\": [5000000, 1500000, 10000000]\n",
    "})\n",
    "\n",
    "new_data_scaled = scaler.transform(new_data)\n",
    "predictions = model2_smote.predict(new_data_scaled)\n",
    "decoded_predictions = le.inverse_transform(predictions)\n",
    "new_data[\"Prediction\"] = decoded_predictions\n",
    "print(new_data)\n"
   ],
   "id": "5c1ed66baa1660fb",
   "outputs": [
    {
     "name": "stdout",
     "output_type": "stream",
     "text": [
      "   no_of_dependents  education  self_employed  income_annum  loan_amount  \\\n",
      "0                 0          1              0       5000000     15000000   \n",
      "1                 3          0              1       2500000     12000000   \n",
      "2                 2          1              0       9000000     25000000   \n",
      "\n",
      "   loan_term  cibil_score  residential_assets_value  commercial_assets_value  \\\n",
      "0         10          720                   2000000                  3000000   \n",
      "1          8          600                   1000000                  2000000   \n",
      "2         15          780                   7000000                  9000000   \n",
      "\n",
      "   luxury_assets_value  bank_asset_value Prediction  \n",
      "0             10000000           5000000        Yes  \n",
      "1              3000000           1500000        Yes  \n",
      "2             20000000          10000000        Yes  \n"
     ]
    }
   ],
   "execution_count": 23
  },
  {
   "metadata": {
    "ExecuteTime": {
     "end_time": "2025-09-19T11:09:32.845766Z",
     "start_time": "2025-09-19T11:09:32.821595Z"
    }
   },
   "cell_type": "code",
   "source": [
    "import joblib\n",
    "\n",
    "joblib.dump(model2, \"model.joblib\")\n",
    "joblib.dump(scaler, \"scaler.joblib\")\n"
   ],
   "id": "8314a48a19dcef5a",
   "outputs": [
    {
     "data": {
      "text/plain": [
       "['scaler.joblib']"
      ]
     },
     "execution_count": 24,
     "metadata": {},
     "output_type": "execute_result"
    }
   ],
   "execution_count": 24
  }
 ],
 "metadata": {
  "kernelspec": {
   "display_name": "Python 3",
   "language": "python",
   "name": "python3"
  },
  "language_info": {
   "codemirror_mode": {
    "name": "ipython",
    "version": 2
   },
   "file_extension": ".py",
   "mimetype": "text/x-python",
   "name": "python",
   "nbconvert_exporter": "python",
   "pygments_lexer": "ipython2",
   "version": "2.7.6"
  }
 },
 "nbformat": 4,
 "nbformat_minor": 5
}
